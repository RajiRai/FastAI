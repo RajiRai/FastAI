{
  "nbformat": 4,
  "nbformat_minor": 0,
  "metadata": {
    "colab": {
      "name": "Covid19 X-ray Classifier",
      "provenance": [],
      "authorship_tag": "ABX9TyMKYoj9m0sdhcV/fOEpXIzo",
      "include_colab_link": true
    },
    "kernelspec": {
      "name": "python3",
      "display_name": "Python 3"
    },
    "widgets": {
      "application/vnd.jupyter.widget-state+json": {
        "7a1d7a89d3df4d7888e21a3cbe8ba22a": {
          "model_module": "@jupyter-widgets/controls",
          "model_name": "VBoxModel",
          "state": {
            "_view_name": "VBoxView",
            "_dom_classes": [],
            "_model_name": "VBoxModel",
            "_view_module": "@jupyter-widgets/controls",
            "_model_module_version": "1.5.0",
            "_view_count": null,
            "_view_module_version": "1.5.0",
            "box_style": "",
            "layout": "IPY_MODEL_3a527ba697894ad1a77c854cebca1b39",
            "_model_module": "@jupyter-widgets/controls",
            "children": [
              "IPY_MODEL_1a372a6c28e7463a817b4a884467e053",
              "IPY_MODEL_f46798fd627e44d6b54080df7258a7d3",
              "IPY_MODEL_b4e877c5da0640a6a7801951f01de3f1",
              "IPY_MODEL_1b685cf5492441efbe25c33d40c28e36"
            ]
          }
        },
        "3a527ba697894ad1a77c854cebca1b39": {
          "model_module": "@jupyter-widgets/base",
          "model_name": "LayoutModel",
          "state": {
            "_view_name": "LayoutView",
            "grid_template_rows": null,
            "right": null,
            "justify_content": null,
            "_view_module": "@jupyter-widgets/base",
            "overflow": null,
            "_model_module_version": "1.2.0",
            "_view_count": null,
            "flex_flow": null,
            "width": null,
            "min_width": null,
            "border": null,
            "align_items": null,
            "bottom": null,
            "_model_module": "@jupyter-widgets/base",
            "top": null,
            "grid_column": null,
            "overflow_y": null,
            "overflow_x": null,
            "grid_auto_flow": null,
            "grid_area": null,
            "grid_template_columns": null,
            "flex": null,
            "_model_name": "LayoutModel",
            "justify_items": null,
            "grid_row": null,
            "max_height": null,
            "align_content": null,
            "visibility": null,
            "align_self": null,
            "height": null,
            "min_height": null,
            "padding": null,
            "grid_auto_rows": null,
            "grid_gap": null,
            "max_width": null,
            "order": null,
            "_view_module_version": "1.2.0",
            "grid_template_areas": null,
            "object_position": null,
            "object_fit": null,
            "grid_auto_columns": null,
            "margin": null,
            "display": null,
            "left": null
          }
        },
        "1a372a6c28e7463a817b4a884467e053": {
          "model_module": "@jupyter-widgets/controls",
          "model_name": "LabelModel",
          "state": {
            "_view_name": "LabelView",
            "style": "IPY_MODEL_0a8fee8052e94b06875619826116995d",
            "_dom_classes": [],
            "description": "",
            "_model_name": "LabelModel",
            "placeholder": "​",
            "_view_module": "@jupyter-widgets/controls",
            "_model_module_version": "1.5.0",
            "value": "Select a X-ray",
            "_view_count": null,
            "_view_module_version": "1.5.0",
            "description_tooltip": null,
            "_model_module": "@jupyter-widgets/controls",
            "layout": "IPY_MODEL_5fd96b30889946fa81903bb55d392e68"
          }
        },
        "f46798fd627e44d6b54080df7258a7d3": {
          "model_module": "@jupyter-widgets/controls",
          "model_name": "FileUploadModel",
          "state": {
            "_view_name": "FileUploadView",
            "_counter": 1,
            "style": "IPY_MODEL_21e115b81312457284e4d7acfadda3af",
            "_dom_classes": [],
            "description": "Upload",
            "multiple": false,
            "_model_name": "FileUploadModel",
            "data": [
              null
            ],
            "button_style": "",
            "_view_module": "@jupyter-widgets/controls",
            "_model_module_version": "1.5.0",
            "accept": "",
            "_view_count": null,
            "disabled": false,
            "_view_module_version": "1.5.0",
            "error": "",
            "description_tooltip": null,
            "metadata": [
              {
                "name": "NORMAL2-IM-1111-0001.jpeg",
                "type": "image/jpeg",
                "size": 493600,
                "lastModified": 1601653106423
              }
            ],
            "_model_module": "@jupyter-widgets/controls",
            "layout": "IPY_MODEL_9e3765a27a1d472f82e2eaf0421748d2",
            "icon": "upload"
          }
        },
        "b4e877c5da0640a6a7801951f01de3f1": {
          "model_module": "@jupyter-widgets/output",
          "model_name": "OutputModel",
          "state": {
            "_view_name": "OutputView",
            "msg_id": "",
            "_dom_classes": [],
            "_model_name": "OutputModel",
            "outputs": [
              {
                "output_type": "display_data",
                "metadata": {
                  "tags": []
                },
                "image/png": "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\n",
                "text/plain": "<PIL.Image.Image image mode=RGB size=128x103 at 0x7FA69C2E5C18>"
              }
            ],
            "_view_module": "@jupyter-widgets/output",
            "_model_module_version": "1.0.0",
            "_view_count": null,
            "_view_module_version": "1.0.0",
            "layout": "IPY_MODEL_a9ae2e65ac8048c99d475df3845e2840",
            "_model_module": "@jupyter-widgets/output"
          }
        },
        "1b685cf5492441efbe25c33d40c28e36": {
          "model_module": "@jupyter-widgets/controls",
          "model_name": "LabelModel",
          "state": {
            "_view_name": "LabelView",
            "style": "IPY_MODEL_eba9cb83a9e94e9ca2490fc647d63279",
            "_dom_classes": [],
            "description": "",
            "_model_name": "LabelModel",
            "placeholder": "​",
            "_view_module": "@jupyter-widgets/controls",
            "_model_module_version": "1.5.0",
            "value": "Prediction: noCovid; Probability: 0.9876",
            "_view_count": null,
            "_view_module_version": "1.5.0",
            "description_tooltip": null,
            "_model_module": "@jupyter-widgets/controls",
            "layout": "IPY_MODEL_66394be42d424cda9743b04986788a68"
          }
        },
        "0a8fee8052e94b06875619826116995d": {
          "model_module": "@jupyter-widgets/controls",
          "model_name": "DescriptionStyleModel",
          "state": {
            "_view_name": "StyleView",
            "_model_name": "DescriptionStyleModel",
            "description_width": "",
            "_view_module": "@jupyter-widgets/base",
            "_model_module_version": "1.5.0",
            "_view_count": null,
            "_view_module_version": "1.2.0",
            "_model_module": "@jupyter-widgets/controls"
          }
        },
        "5fd96b30889946fa81903bb55d392e68": {
          "model_module": "@jupyter-widgets/base",
          "model_name": "LayoutModel",
          "state": {
            "_view_name": "LayoutView",
            "grid_template_rows": null,
            "right": null,
            "justify_content": null,
            "_view_module": "@jupyter-widgets/base",
            "overflow": null,
            "_model_module_version": "1.2.0",
            "_view_count": null,
            "flex_flow": null,
            "width": null,
            "min_width": null,
            "border": null,
            "align_items": null,
            "bottom": null,
            "_model_module": "@jupyter-widgets/base",
            "top": null,
            "grid_column": null,
            "overflow_y": null,
            "overflow_x": null,
            "grid_auto_flow": null,
            "grid_area": null,
            "grid_template_columns": null,
            "flex": null,
            "_model_name": "LayoutModel",
            "justify_items": null,
            "grid_row": null,
            "max_height": null,
            "align_content": null,
            "visibility": null,
            "align_self": null,
            "height": null,
            "min_height": null,
            "padding": null,
            "grid_auto_rows": null,
            "grid_gap": null,
            "max_width": null,
            "order": null,
            "_view_module_version": "1.2.0",
            "grid_template_areas": null,
            "object_position": null,
            "object_fit": null,
            "grid_auto_columns": null,
            "margin": null,
            "display": null,
            "left": null
          }
        },
        "21e115b81312457284e4d7acfadda3af": {
          "model_module": "@jupyter-widgets/controls",
          "model_name": "ButtonStyleModel",
          "state": {
            "_view_name": "StyleView",
            "_model_name": "ButtonStyleModel",
            "_view_module": "@jupyter-widgets/base",
            "_model_module_version": "1.5.0",
            "_view_count": null,
            "button_color": null,
            "font_weight": "",
            "_view_module_version": "1.2.0",
            "_model_module": "@jupyter-widgets/controls"
          }
        },
        "9e3765a27a1d472f82e2eaf0421748d2": {
          "model_module": "@jupyter-widgets/base",
          "model_name": "LayoutModel",
          "state": {
            "_view_name": "LayoutView",
            "grid_template_rows": null,
            "right": null,
            "justify_content": null,
            "_view_module": "@jupyter-widgets/base",
            "overflow": null,
            "_model_module_version": "1.2.0",
            "_view_count": null,
            "flex_flow": null,
            "width": null,
            "min_width": null,
            "border": null,
            "align_items": null,
            "bottom": null,
            "_model_module": "@jupyter-widgets/base",
            "top": null,
            "grid_column": null,
            "overflow_y": null,
            "overflow_x": null,
            "grid_auto_flow": null,
            "grid_area": null,
            "grid_template_columns": null,
            "flex": null,
            "_model_name": "LayoutModel",
            "justify_items": null,
            "grid_row": null,
            "max_height": null,
            "align_content": null,
            "visibility": null,
            "align_self": null,
            "height": null,
            "min_height": null,
            "padding": null,
            "grid_auto_rows": null,
            "grid_gap": null,
            "max_width": null,
            "order": null,
            "_view_module_version": "1.2.0",
            "grid_template_areas": null,
            "object_position": null,
            "object_fit": null,
            "grid_auto_columns": null,
            "margin": null,
            "display": null,
            "left": null
          }
        },
        "eba9cb83a9e94e9ca2490fc647d63279": {
          "model_module": "@jupyter-widgets/controls",
          "model_name": "DescriptionStyleModel",
          "state": {
            "_view_name": "StyleView",
            "_model_name": "DescriptionStyleModel",
            "description_width": "",
            "_view_module": "@jupyter-widgets/base",
            "_model_module_version": "1.5.0",
            "_view_count": null,
            "_view_module_version": "1.2.0",
            "_model_module": "@jupyter-widgets/controls"
          }
        },
        "66394be42d424cda9743b04986788a68": {
          "model_module": "@jupyter-widgets/base",
          "model_name": "LayoutModel",
          "state": {
            "_view_name": "LayoutView",
            "grid_template_rows": null,
            "right": null,
            "justify_content": null,
            "_view_module": "@jupyter-widgets/base",
            "overflow": null,
            "_model_module_version": "1.2.0",
            "_view_count": null,
            "flex_flow": null,
            "width": null,
            "min_width": null,
            "border": null,
            "align_items": null,
            "bottom": null,
            "_model_module": "@jupyter-widgets/base",
            "top": null,
            "grid_column": null,
            "overflow_y": null,
            "overflow_x": null,
            "grid_auto_flow": null,
            "grid_area": null,
            "grid_template_columns": null,
            "flex": null,
            "_model_name": "LayoutModel",
            "justify_items": null,
            "grid_row": null,
            "max_height": null,
            "align_content": null,
            "visibility": null,
            "align_self": null,
            "height": null,
            "min_height": null,
            "padding": null,
            "grid_auto_rows": null,
            "grid_gap": null,
            "max_width": null,
            "order": null,
            "_view_module_version": "1.2.0",
            "grid_template_areas": null,
            "object_position": null,
            "object_fit": null,
            "grid_auto_columns": null,
            "margin": null,
            "display": null,
            "left": null
          }
        },
        "a9ae2e65ac8048c99d475df3845e2840": {
          "model_module": "@jupyter-widgets/base",
          "model_name": "LayoutModel",
          "state": {
            "_view_name": "LayoutView",
            "grid_template_rows": null,
            "right": null,
            "justify_content": null,
            "_view_module": "@jupyter-widgets/base",
            "overflow": null,
            "_model_module_version": "1.2.0",
            "_view_count": null,
            "flex_flow": null,
            "width": null,
            "min_width": null,
            "border": null,
            "align_items": null,
            "bottom": null,
            "_model_module": "@jupyter-widgets/base",
            "top": null,
            "grid_column": null,
            "overflow_y": null,
            "overflow_x": null,
            "grid_auto_flow": null,
            "grid_area": null,
            "grid_template_columns": null,
            "flex": null,
            "_model_name": "LayoutModel",
            "justify_items": null,
            "grid_row": null,
            "max_height": null,
            "align_content": null,
            "visibility": null,
            "align_self": null,
            "height": null,
            "min_height": null,
            "padding": null,
            "grid_auto_rows": null,
            "grid_gap": null,
            "max_width": null,
            "order": null,
            "_view_module_version": "1.2.0",
            "grid_template_areas": null,
            "object_position": null,
            "object_fit": null,
            "grid_auto_columns": null,
            "margin": null,
            "display": null,
            "left": null
          }
        }
      }
    }
  },
  "cells": [
    {
      "cell_type": "markdown",
      "metadata": {
        "id": "view-in-github",
        "colab_type": "text"
      },
      "source": [
        "<a href=\"https://colab.research.google.com/github/RajiRai/FastAI/blob/master/Fast.ai%20Lesson%203%20-%20Covid19_X_ray_Classifier.ipynb\" target=\"_parent\"><img src=\"https://colab.research.google.com/assets/colab-badge.svg\" alt=\"Open In Colab\"/></a>"
      ]
    },
    {
      "cell_type": "code",
      "metadata": {
        "id": "fpkALx4WTo6e",
        "outputId": "bf25d655-e623-48c8-a829-7698af8153b5",
        "colab": {
          "base_uri": "https://localhost:8080/",
          "height": 218
        }
      },
      "source": [
        "!pip install -Uqq fastbook\n",
        "import fastbook\n",
        "fastbook.setup_book()"
      ],
      "execution_count": 1,
      "outputs": [
        {
          "output_type": "stream",
          "text": [
            "\u001b[K     |████████████████████████████████| 727kB 7.0MB/s \n",
            "\u001b[K     |████████████████████████████████| 51kB 6.5MB/s \n",
            "\u001b[K     |████████████████████████████████| 1.0MB 19.9MB/s \n",
            "\u001b[K     |████████████████████████████████| 51kB 6.0MB/s \n",
            "\u001b[K     |████████████████████████████████| 194kB 49.2MB/s \n",
            "\u001b[K     |████████████████████████████████| 92kB 10.7MB/s \n",
            "\u001b[K     |████████████████████████████████| 40kB 5.4MB/s \n",
            "\u001b[K     |████████████████████████████████| 51kB 7.0MB/s \n",
            "\u001b[K     |████████████████████████████████| 51kB 6.5MB/s \n",
            "\u001b[K     |████████████████████████████████| 61kB 7.7MB/s \n",
            "\u001b[K     |████████████████████████████████| 2.6MB 46.4MB/s \n",
            "\u001b[?25hMounted at /content/gdrive\n"
          ],
          "name": "stdout"
        }
      ]
    },
    {
      "cell_type": "code",
      "metadata": {
        "id": "jDs7uFs_VB9k"
      },
      "source": [
        "from fastbook import *\n",
        "from fastai.vision.widgets import *"
      ],
      "execution_count": 2,
      "outputs": []
    },
    {
      "cell_type": "code",
      "metadata": {
        "id": "ndWlI_HYVTu7",
        "outputId": "e21fa6e7-86a6-49e8-dd0a-f77f35bca7db",
        "colab": {
          "base_uri": "https://localhost:8080/",
          "height": 34
        }
      },
      "source": [
        "from google.colab import drive\n",
        "drive.mount('/content/gdrive', force_remount=True)"
      ],
      "execution_count": 3,
      "outputs": [
        {
          "output_type": "stream",
          "text": [
            "Mounted at /content/gdrive\n"
          ],
          "name": "stdout"
        }
      ]
    },
    {
      "cell_type": "code",
      "metadata": {
        "id": "SDlKY8T2VdTM"
      },
      "source": [
        "path = Path ('/content/gdrive/My Drive/Covid19images')\n",
        "learn_inf = load_learner(path/'export.pkl')\n",
        "btn_upload = widgets.FileUpload()\n",
        "out_pl = widgets.Output()\n",
        "lbl_pred = widgets.Label()"
      ],
      "execution_count": 10,
      "outputs": []
    },
    {
      "cell_type": "code",
      "metadata": {
        "id": "3lbCOxYSywzV"
      },
      "source": [
        "def on_data_change(change):\n",
        "    lbl_pred.value = ''\n",
        "    img = PILImage.create(btn_upload.data[-1])\n",
        "    out_pl.clear_output()\n",
        "    with out_pl: display(img.to_thumb(128,128))\n",
        "    pred,pred_idx,probs = learn_inf.predict(img)\n",
        "    lbl_pred.value = f'Prediction: {pred}; Probability: {probs[pred_idx]:.04f}'\n",
        "    "
      ],
      "execution_count": 5,
      "outputs": []
    },
    {
      "cell_type": "code",
      "metadata": {
        "id": "1u3S_Bb7zUu0"
      },
      "source": [
        "btn_upload.observe(on_data_change, names=['data'])"
      ],
      "execution_count": 6,
      "outputs": []
    },
    {
      "cell_type": "code",
      "metadata": {
        "id": "H6mS2fHT0Kbm",
        "outputId": "5450f142-5826-4007-af1f-713233f854e0",
        "colab": {
          "base_uri": "https://localhost:8080/",
          "height": 216,
          "referenced_widgets": [
            "7a1d7a89d3df4d7888e21a3cbe8ba22a",
            "3a527ba697894ad1a77c854cebca1b39",
            "1a372a6c28e7463a817b4a884467e053",
            "f46798fd627e44d6b54080df7258a7d3",
            "b4e877c5da0640a6a7801951f01de3f1",
            "1b685cf5492441efbe25c33d40c28e36",
            "0a8fee8052e94b06875619826116995d",
            "5fd96b30889946fa81903bb55d392e68",
            "21e115b81312457284e4d7acfadda3af",
            "9e3765a27a1d472f82e2eaf0421748d2",
            "eba9cb83a9e94e9ca2490fc647d63279",
            "66394be42d424cda9743b04986788a68",
            "a9ae2e65ac8048c99d475df3845e2840"
          ]
        }
      },
      "source": [
        "display(VBox([widgets.Label('Select a X-ray'), btn_upload, out_pl, lbl_pred]))"
      ],
      "execution_count": 13,
      "outputs": [
        {
          "output_type": "display_data",
          "data": {
            "application/vnd.jupyter.widget-view+json": {
              "model_id": "7a1d7a89d3df4d7888e21a3cbe8ba22a",
              "version_minor": 0,
              "version_major": 2
            },
            "text/plain": [
              "VBox(children=(Label(value='Select a X-ray'), FileUpload(value={'NORMAL2-IM-1111-0001.jpeg': {'metadata': {'la…"
            ]
          },
          "metadata": {
            "tags": []
          }
        }
      ]
    }
  ]
}